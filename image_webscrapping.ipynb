{
 "cells": [
  {
   "cell_type": "code",
   "execution_count": 20,
   "id": "d38cb376-06c8-4c9b-b9fe-3d98161ef2ae",
   "metadata": {},
   "outputs": [],
   "source": [
    "import requests\n",
    "import logging\n",
    "import os\n",
    "from bs4 import BeautifulSoup\n",
    "from urllib.request import urlopen"
   ]
  },
  {
   "cell_type": "code",
   "execution_count": 21,
   "id": "d82ffcf0-d828-44f3-89ef-c1ff505c3c86",
   "metadata": {},
   "outputs": [],
   "source": [
    "save_dir=\"images/\"\n",
    "\n",
    "if not os.path.exists(save_dir):\n",
    "    os.makedirs(save_dir)"
   ]
  },
  {
   "cell_type": "code",
   "execution_count": 39,
   "id": "79f072a4-b6f4-45e9-b2e1-deb1f067f3bc",
   "metadata": {},
   "outputs": [],
   "source": [
    "query= \"elon musk\"\n",
    "url=\"https://www.google.com/search?q={query}&tbm=isch\""
   ]
  },
  {
   "cell_type": "code",
   "execution_count": 40,
   "id": "d91cbc14-1331-4d4f-b2bc-d5cd38a7c4cb",
   "metadata": {},
   "outputs": [
    {
     "data": {
      "text/plain": [
       "<Response [200]>"
      ]
     },
     "execution_count": 40,
     "metadata": {},
     "output_type": "execute_result"
    }
   ],
   "source": [
    "response = requests.get(f\"https://www.google.com/search?q={query}&tbm=isch\")\n",
    "response"
   ]
  },
  {
   "cell_type": "code",
   "execution_count": 48,
   "id": "58039e1a-f2e4-432f-81e5-3bb188fcd6d5",
   "metadata": {},
   "outputs": [],
   "source": [
    "Soup = BeautifulSoup(response.content, \"html.parser\")\n"
   ]
  },
  {
   "cell_type": "code",
   "execution_count": 49,
   "id": "afab23f5-c68d-4174-8386-c2b3562ccedf",
   "metadata": {},
   "outputs": [],
   "source": [
    "all_images= Soup.find_all(\"img\")"
   ]
  },
  {
   "cell_type": "code",
   "execution_count": 53,
   "id": "3343e620-d341-4fce-8f9a-021c7a08b5bd",
   "metadata": {},
   "outputs": [],
   "source": [
    "del all_images[0]"
   ]
  },
  {
   "cell_type": "code",
   "execution_count": 55,
   "id": "e4e90e6f-5c0e-445e-8275-417dc5d8965d",
   "metadata": {},
   "outputs": [
    {
     "data": {
      "text/plain": [
       "20"
      ]
     },
     "execution_count": 55,
     "metadata": {},
     "output_type": "execute_result"
    }
   ],
   "source": [
    "len(all_images)"
   ]
  },
  {
   "cell_type": "code",
   "execution_count": 63,
   "id": "8728986f-081d-4cd9-8082-a5f71239e02d",
   "metadata": {},
   "outputs": [],
   "source": [
    "for i in all_images:\n",
    "    url_of_img = (i['src'])\n",
    "    image_data= requests.get(url_of_img).content\n",
    "    with open (os.path.join(save_dir, f\"{query}_{all_images.index(i)}.jpg\"),\"wb\") as f:\n",
    "        f.write(image_data)"
   ]
  }
 ],
 "metadata": {
  "kernelspec": {
   "display_name": "Python 3 (ipykernel)",
   "language": "python",
   "name": "python3"
  },
  "language_info": {
   "codemirror_mode": {
    "name": "ipython",
    "version": 3
   },
   "file_extension": ".py",
   "mimetype": "text/x-python",
   "name": "python",
   "nbconvert_exporter": "python",
   "pygments_lexer": "ipython3",
   "version": "3.11.5"
  }
 },
 "nbformat": 4,
 "nbformat_minor": 5
}
